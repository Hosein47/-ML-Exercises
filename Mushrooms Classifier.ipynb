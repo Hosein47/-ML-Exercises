{
 "cells": [
  {
   "cell_type": "code",
   "execution_count": null,
   "metadata": {},
   "outputs": [],
   "source": [
    "import numpy as np\n",
    "import matplotlib.pyplot as plt\n",
    "import pandas as pd\n",
    "\n",
    "#load dataset\n",
    "dataset = pd.read_csv('mushrooms.csv')\n",
    "dataset.head()\n",
    "#dataset.describe()\n",
    "#dataset.info()"
   ]
  },
  {
   "cell_type": "code",
   "execution_count": null,
   "metadata": {},
   "outputs": [],
   "source": [
    "#assign X and y\n",
    "X = dataset.iloc[:, [1,2,3,4,5,6,7,8,9,10,11,12,13,14,15,16,17,18,19,20,21,22]].values\n",
    "y = dataset.iloc[:, [0]].values\n",
    "#X = pd.DataFrame(X)\n",
    "#y = pd.DataFrame(y)"
   ]
  },
  {
   "cell_type": "code",
   "execution_count": null,
   "metadata": {},
   "outputs": [],
   "source": [
    "# Encoding categorical data for X dummy variables (not optimized)\n",
    "from sklearn.preprocessing import LabelEncoder, OneHotEncoder\n",
    "from keras.utils import np_utils\n",
    "encoder = LabelEncoder()\n",
    "X[:, 1] = encoder.fit_transform(X[:, 1])\n",
    "X[:, 2] = encoder.fit_transform(X[:, 2])\n",
    "X[:, 0] = encoder.fit_transform(X[:, 0])\n",
    "X[:, 3] = encoder.fit_transform(X[:, 3])\n",
    "X[:, 4] = encoder.fit_transform(X[:, 4])\n",
    "X[:, 5] = encoder.fit_transform(X[:, 5])\n",
    "X[:, 6] = encoder.fit_transform(X[:, 6])\n",
    "X[:, 7] = encoder.fit_transform(X[:, 7])\n",
    "X[:, 8] = encoder.fit_transform(X[:, 8])\n",
    "X[:, 9] = encoder.fit_transform(X[:, 9])\n",
    "X[:, 10] = encoder.fit_transform(X[:, 10])\n",
    "X[:, 11] = encoder.fit_transform(X[:, 11])\n",
    "X[:, 12] = encoder.fit_transform(X[:, 12])\n",
    "X[:, 13] = encoder.fit_transform(X[:, 13])\n",
    "X[:, 14] = encoder.fit_transform(X[:, 14])\n",
    "X[:, 15] = encoder.fit_transform(X[:, 15])\n",
    "X[:, 16] = encoder.fit_transform(X[:, 16])\n",
    "X[:, 17] = encoder.fit_transform(X[:, 17])\n",
    "X[:, 18] = encoder.fit_transform(X[:, 18])\n",
    "X[:, 19] = encoder.fit_transform(X[:, 19])\n",
    "X[:, 20] = encoder.fit_transform(X[:, 20])\n",
    "X[:, 21] = encoder.fit_transform(X[:, 21])"
   ]
  },
  {
   "cell_type": "code",
   "execution_count": null,
   "metadata": {},
   "outputs": [],
   "source": [
    "onehotencoder = OneHotEncoder(categorical_features ='all')\n",
    "X = onehotencoder.fit_transform(X).toarray()\n",
    "#X = onehotencoder.fit_transform(X[1].reshape(1,-1)).toarray()\n",
    "X = X[:, 1:]\n",
    "X = pd.DataFrame(X)\n",
    "#pd.get_dummies(X)\n",
    "X.head()\n",
    "#X[1]"
   ]
  },
  {
   "cell_type": "code",
   "execution_count": null,
   "metadata": {},
   "outputs": [],
   "source": [
    "#encoding for y\n",
    "labelencoder_y_0 = LabelEncoder()\n",
    "y[:, 0] = labelencoder_y_0.fit_transform(y[:, 0])\n",
    "\n",
    "#split data -try the model with random state 42 and also it is checked with random state 0\n",
    "from sklearn.model_selection import train_test_split\n",
    "X_train, X_test, y_train, y_test = train_test_split(X, y, test_size = 0.20, random_state = 42)\n",
    "#X_train.shape\n",
    "\n",
    "# Feature Scaling\n",
    "from sklearn.preprocessing import StandardScaler\n",
    "sc = StandardScaler()\n",
    "X_train = sc.fit_transform(X_train)\n",
    "X_test = sc.transform(X_test)"
   ]
  },
  {
   "cell_type": "code",
   "execution_count": null,
   "metadata": {},
   "outputs": [],
   "source": [
    "yprime=pd.DataFrame(y)\n",
    "yprime.head(10).T"
   ]
  },
  {
   "cell_type": "code",
   "execution_count": null,
   "metadata": {},
   "outputs": [],
   "source": [
    "import keras\n",
    "from keras.models import Sequential\n",
    "from keras.layers import Dense\n",
    "from keras.models import model_from_json\n",
    "import os\n",
    "classifier = Sequential()\n",
    "# Adding the input layer and the first hidden layer\n",
    "classifier.add(Dense(output_dim = 12, init = 'uniform', activation = 'relu', input_dim = 116))\n",
    "# Adding the second hidden layer\n",
    "classifier.add(Dense(output_dim = 12, init = 'uniform', activation = 'relu'))\n",
    "# Adding the third hidden layer\n",
    "classifier.add(Dense(output_dim = 10, init = 'uniform', activation = 'relu'))\n",
    "# Adding the output layer\n",
    "classifier.add(Dense(output_dim = 1, init = 'uniform', activation = 'sigmoid'))\n",
    "# Compiling the ANN\n",
    "classifier.compile(optimizer = 'adam', loss = 'binary_crossentropy', metrics = ['accuracy'])\n",
    "\n",
    "classifier.fit(X_train, y_train, batch_size = 50, nb_epoch = 3)\n",
    "\n",
    "# Predicting the Test set results\n",
    "y_pred = classifier.predict(X_test)\n",
    "y_pred = y_pred.round().astype(int)\n",
    "y_test = y_test.astype(int)\n",
    "# Making the Confusion Matrix\n",
    "from sklearn.metrics import confusion_matrix\n",
    "cm = confusion_matrix(y_test, y_pred)\n",
    "scores = classifier.evaluate(X_train, y_train) \n",
    "print(\"%s: %.2f%%\" % (classifier.metrics_names[1], scores[1]*100))\n",
    "print(cm)"
   ]
  },
  {
   "cell_type": "code",
   "execution_count": null,
   "metadata": {},
   "outputs": [],
   "source": [
    "#Save the model\n",
    "classifier_json = classifier.to_json() \n",
    "with open(\"classifier.json\", \"w\") as json_file:\n",
    "    json_file.write(classifier_json) \n",
    "# serialize weights to HDF5 \n",
    "classifier.save_weights(\"classifier.h5\") \n",
    "print(\"Saved model to disk\")"
   ]
  },
  {
   "cell_type": "code",
   "execution_count": null,
   "metadata": {},
   "outputs": [],
   "source": [
    "json_file = open( 'classifier.json' , 'r' )\n",
    "loaded_classifier_json = json_file.read() \n",
    "json_file.close() \n",
    "loaded_classifier = model_from_json(loaded_classifier_json) \n",
    "# load weights into new model \n",
    "loaded_classifier.load_weights(\"classifier.h5\") \n",
    "print(\"Loaded model from disk\")"
   ]
  },
  {
   "cell_type": "code",
   "execution_count": null,
   "metadata": {},
   "outputs": [],
   "source": [
    "# new instances where we do not know the answer\n",
    "\n",
    "# from sklearn.datasets.samples_generator import make_blobs\n",
    "#from sklearn.preprocessing import MinMaxScaler\n",
    "#scalar = MinMaxScaler().fit(X_train)\n",
    "#Xnew, _ = make_blobs(n_samples=3, centers=2, n_features=24, random_state=1)\n",
    "#Xnew = scalar.transform(Xnew)\n",
    "req0 = np.array(['x','s','n','t','p','f','c','n','k','e','e','s','s','w','w','p','w','o','p','k','s','u'])\n",
    "req1=np.array(['x', 's', 'y', 't', 'a', 'f', 'c', 'b', 'k', 'e', 'c', 's', 's',\n",
    "       'w', 'w', 'p', 'w', 'o', 'p', 'n', 'n', 'g'])\n",
    "req2=np.array(['b', 's', 'w', 't', 'l', 'f', 'c', 'b', 'n', 'e', 'c', 's', 's',\n",
    "       'w', 'w', 'p', 'w', 'o', 'p', 'n', 'n', 'm'])\n",
    "req5=np.array(['x', 'y', 'y', 't', 'a', 'f', 'c', 'b', 'n', 'e', 'c', 's', 's',\n",
    "       'w', 'w', 'p', 'w', 'o', 'p', 'k', 'n', 'g'])\n",
    "\n",
    "input_array=dataset.iloc[:, [1,2,3,4,5,6,7,8,9,10,11,12,13,14,15,16,17,18,19,20,21,22]].values\n",
    "new_array=np.vstack([input_array, req0])\n",
    "#new_array[8124]\n",
    "\n",
    "#encoder = LabelEncoder()\n",
    "#req = encoder.fit_transform(req1)\n",
    "#test=req.reshape(1,-1)\n",
    "encoder = LabelEncoder()\n",
    "new_array[:, 1] = encoder.fit_transform(new_array[:, 1])\n",
    "new_array[:, 2] = encoder.fit_transform(new_array[:, 2])\n",
    "new_array[:, 0] = encoder.fit_transform(new_array[:, 0])\n",
    "new_array[:, 3] = encoder.fit_transform(new_array[:, 3])\n",
    "new_array[:, 4] = encoder.fit_transform(new_array[:, 4])\n",
    "new_array[:, 5] = encoder.fit_transform(new_array[:, 5])\n",
    "new_array[:, 6] = encoder.fit_transform(new_array[:, 6])\n",
    "new_array[:, 7] = encoder.fit_transform(new_array[:, 7])\n",
    "new_array[:, 8] = encoder.fit_transform(new_array[:, 8])\n",
    "new_array[:, 9] = encoder.fit_transform(new_array[:, 9])\n",
    "new_array[:, 10] = encoder.fit_transform(new_array[:, 10])\n",
    "new_array[:, 11] = encoder.fit_transform(new_array[:, 11])\n",
    "new_array[:, 12] = encoder.fit_transform(new_array[:, 12])\n",
    "new_array[:, 13] = encoder.fit_transform(new_array[:, 13])\n",
    "new_array[:, 14] = encoder.fit_transform(new_array[:, 14])\n",
    "new_array[:, 15] = encoder.fit_transform(new_array[:, 15])\n",
    "new_array[:, 16] = encoder.fit_transform(new_array[:, 16])\n",
    "new_array[:, 17] = encoder.fit_transform(new_array[:, 17])\n",
    "new_array[:, 18] = encoder.fit_transform(new_array[:, 18])\n",
    "new_array[:, 19] = encoder.fit_transform(new_array[:, 19])\n",
    "new_array[:, 20] = encoder.fit_transform(new_array[:, 20])\n",
    "new_array[:, 21] = encoder.fit_transform(new_array[:, 21])\n",
    "\n",
    "onehotencoder = OneHotEncoder(categorical_features = 'all')\n",
    "test = onehotencoder.fit_transform(new_array).toarray()\n",
    "test = test[:, 1:]\n",
    "test.shape"
   ]
  },
  {
   "cell_type": "code",
   "execution_count": null,
   "metadata": {},
   "outputs": [],
   "source": [
    "#make a prediction\n",
    "ynew = classifier.predict_classes(test)\n",
    "# show the inputs and predicted outputs\n",
    "for i in range(len(test)):\n",
    "    print(\"X=%s, Predicted=%s\" % (test[i], ynew[i]))"
   ]
  },
  {
   "cell_type": "code",
   "execution_count": null,
   "metadata": {},
   "outputs": [],
   "source": []
  }
 ],
 "metadata": {
  "kernelspec": {
   "display_name": "Python 3",
   "language": "python",
   "name": "python3"
  },
  "language_info": {
   "codemirror_mode": {
    "name": "ipython",
    "version": 3
   },
   "file_extension": ".py",
   "mimetype": "text/x-python",
   "name": "python",
   "nbconvert_exporter": "python",
   "pygments_lexer": "ipython3",
   "version": "3.6.8"
  }
 },
 "nbformat": 4,
 "nbformat_minor": 2
}
